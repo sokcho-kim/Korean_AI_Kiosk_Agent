{
 "cells": [
  {
   "cell_type": "code",
   "execution_count": null,
   "metadata": {},
   "outputs": [],
   "source": [
    "# git clone https://github.com/AUTOMATIC1111/stable-diffusion-webui.git\n",
    "# cd stable-diffusion-webui\n",
    "# pip install -r requirements.txt"
   ]
  },
  {
   "cell_type": "markdown",
   "metadata": {},
   "source": [
    "## 이미지 생성 테스트 (가상 V 만들기)"
   ]
  },
  {
   "cell_type": "markdown",
   "metadata": {},
   "source": [
    "### 환경 세팅 \n",
    "\n",
    "1. Conda에서 새로운 Python 3.10 환경 생성\n",
    "2. Stable Diffusion 실행을 위한 필수 패키지 설치\n",
    "    - CUDA, PyTorch, numpy, opencv-python, pillow, tqdm\n",
    "3. Stable Diffusion WebUI 설치 (git clone)\n",
    "4. DreamBooth 확장 설치"
   ]
  },
  {
   "cell_type": "markdown",
   "metadata": {},
   "source": [
    "### 이미지 데이터 준비"
   ]
  },
  {
   "cell_type": "code",
   "execution_count": null,
   "metadata": {},
   "outputs": [
    {
     "name": "stdout",
     "output_type": "stream",
     "text": [
      "얼굴 크롭 및 512x512 변환 완료!\n"
     ]
    }
   ],
   "source": [
    "import cv2\n",
    "import os\n",
    "from PIL import Image\n",
    "\n",
    "input_folder = \"./data/dataset\"\n",
    "output_folder = \"./data/cropped_faces\"\n",
    "\n",
    "os.makedirs(output_folder, exist_ok=True)\n",
    "\n",
    "# OpenCV의 HaarCascade를 사용하여 얼굴 감지\n",
    "face_cascade = cv2.CascadeClassifier(cv2.data.haarcascades + \"haarcascade_frontalface_default.xml\")\n",
    "\n",
    "for filename in os.listdir(input_folder):\n",
    "    \n",
    "    if img is None:\n",
    "        continue  # 이미지 파일이 아니라면 건너뛰기\n",
    "\n",
    "    gray = cv2.cvtColor(img, cv2.COLOR_BGR2GRAY)\n",
    "    faces = face_cascade.detectMultiScale(gray, scaleFactor=1.1, minNeighbors=5, minSize=(100, 100))\n",
    "\n",
    "    for (x, y, w, h) in faces:\n",
    "        face = img[y:y+h, x:x+w]\n",
    "        face = cv2.resize(face, (512, 512))  # 512x512로 크기 조정\n",
    "        face_pil = Image.fromarray(cv2.cvtColor(face, cv2.COLOR_BGR2RGB))\n",
    "        face_pil.save(os.path.join(output_folder, filename))\n",
    "\n",
    "print(\"얼굴 크롭 및 512x512 변환 완료!\")\n"
   ]
  },
  {
   "cell_type": "code",
   "execution_count": null,
   "metadata": {},
   "outputs": [],
   "source": []
  }
 ],
 "metadata": {
  "kernelspec": {
   "display_name": "sd-env",
   "language": "python",
   "name": "python3"
  },
  "language_info": {
   "codemirror_mode": {
    "name": "ipython",
    "version": 3
   },
   "file_extension": ".py",
   "mimetype": "text/x-python",
   "name": "python",
   "nbconvert_exporter": "python",
   "pygments_lexer": "ipython3",
   "version": "3.10.16"
  }
 },
 "nbformat": 4,
 "nbformat_minor": 2
}
